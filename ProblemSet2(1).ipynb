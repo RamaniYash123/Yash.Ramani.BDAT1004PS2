{
 "cells": [
  {
   "cell_type": "markdown",
   "id": "ede1fe0f",
   "metadata": {},
   "source": [
    "## Q1: What value is displayed when the last expression (a) is evaluated? Explain your answer by indicating what happens in every executed statement."
   ]
  },
  {
   "cell_type": "code",
   "execution_count": 1,
   "id": "a8ef0b43",
   "metadata": {},
   "outputs": [
    {
     "name": "stdout",
     "output_type": "stream",
     "text": [
      "6\n"
     ]
    }
   ],
   "source": [
    "a = 0  #initialized a.\n",
    "\n",
    "def b():\n",
    "    global a     # global variable.\n",
    "    a = c(a)     # called c(a) function\n",
    "\n",
    "def c(a):\n",
    "    return a + 2   \n",
    "\n",
    "b()    \n",
    "b()    \n",
    "b()    \n",
    "print(a)"
   ]
  },
  {
   "cell_type": "markdown",
   "id": "00c5671c",
   "metadata": {},
   "source": [
    "## Q2: Modify function fileLength() so that a friendly message is printed instead."
   ]
  },
  {
   "cell_type": "code",
   "execution_count": 4,
   "id": "32ff019e",
   "metadata": {},
   "outputs": [],
   "source": [
    "def fileLength(filename):\n",
    "  try:\n",
    "    with open(filename, 'r') as infile:\n",
    "      lines = sum(1 for line in infile)\n",
    "      print(f\"{filename} has {lines} lines.\")\n",
    "  except FileNotFoundError:\n",
    "    print(f\"File {filename} not found.\")"
   ]
  },
  {
   "cell_type": "code",
   "execution_count": 5,
   "id": "5689219c",
   "metadata": {},
   "outputs": [
    {
     "name": "stdout",
     "output_type": "stream",
     "text": [
      "FileLength.txt has 5 lines.\n",
      "File midterm.txt not found.\n"
     ]
    }
   ],
   "source": [
    "fileLength('FileLength.txt')\n",
    "fileLength('midterm.txt')"
   ]
  },
  {
   "cell_type": "markdown",
   "id": "f10b584a",
   "metadata": {},
   "source": [
    "## Q3: Write a class named Kangaroo as a subclass of Marsupial that inherits all the attributes of Marsupial and also:\n",
    "* extends the Marsupial __init__ constructor to take, as input, the coordinates x and y of the Kangaroo object,\n",
    "* supports method jump that takes number values dx and dy as input and moves the kangaroo by dx units along the x-axis and by   dy units along the y\u0002axis, and\n",
    "* overloads the __str__ operator so it behaves as shown below."
   ]
  },
  {
   "cell_type": "code",
   "execution_count": 9,
   "id": "bb62389a",
   "metadata": {},
   "outputs": [
    {
     "name": "stdout",
     "output_type": "stream",
     "text": [
      "I am a Kangaroo located at coordinates (0,0)\n",
      "['doll', 'firetruck', 'kitten']\n",
      "I am a Kangaroo located at coordinates (3,0)\n"
     ]
    }
   ],
   "source": [
    "class Marsupial:\n",
    "    def __init__(self):\n",
    "        self.carrier = []  \n",
    "\n",
    "    def put_in_pouch(self, i):\n",
    "        self.carrier.append(i)\n",
    "\n",
    "    def pouch_contents(self):\n",
    "        return self.carrier\n",
    "\n",
    "class Kangaroo(Marsupial):\n",
    "    def __init__(self, x=0, y=0):\n",
    "        super().__init__()\n",
    "        self.x = x\n",
    "        self.y = y\n",
    "\n",
    "    def jump(self, dx, dy):\n",
    "        self.x += dx\n",
    "        self.y += dy\n",
    "\n",
    "    def __str__(self):\n",
    "        return f\"I am a Kangaroo located at coordinates ({self.x},{self.y})\"\n",
    "    \n",
    "    \n",
    "m = Marsupial()\n",
    "m.put_in_pouch('doll')\n",
    "m.put_in_pouch('firetruck')\n",
    "m.put_in_pouch('kitten')\n",
    "m.pouch_contents()\n",
    "\n",
    "k = Kangaroo(0, 0)\n",
    "print(k) \n",
    "k.put_in_pouch('doll')\n",
    "k.put_in_pouch('firetruck')\n",
    "k.put_in_pouch('kitten')\n",
    "print(k.pouch_contents())\n",
    "\n",
    "k.jump(1, 0)\n",
    "k.jump(1, 0)\n",
    "k.jump(1, 0)\n",
    "print(k)"
   ]
  },
  {
   "cell_type": "markdown",
   "id": "2687e2a4",
   "metadata": {},
   "source": [
    "## Q4: Write function collatz() that takes a positive integer x as input and prints the Collatz sequence starting at x. A Collatz sequence is obtained by repeatedly applying this rule to the previous number x in the sequence:\n",
    "## x = { 𝑥/2 𝑖𝑓 𝑥 𝑖𝑠 𝑒𝑣𝑒𝑛\n",
    "##     3𝑥 + 1 𝑖𝑓 𝑥 𝑖𝑠 𝑜𝑑𝑑\n",
    "\n",
    "## Your function should stop when the sequence gets to number 1. Your implementation must be recursive, without any loops."
   ]
  },
  {
   "cell_type": "code",
   "execution_count": 10,
   "id": "4af52811",
   "metadata": {},
   "outputs": [
    {
     "name": "stdout",
     "output_type": "stream",
     "text": [
      "Collatz of 1 is:\n",
      "1\n",
      "Collatz of 10 is:\n",
      "10 -> 5 -> 16 -> 8 -> 4 -> 2 -> 1\n"
     ]
    }
   ],
   "source": [
    "def collatz(x):\n",
    "  print(f\"Collatz of {x} is:\")\n",
    "  while x != 1:\n",
    "    print(x, end=\" -> \")\n",
    "    x = x // 2 if x % 2 == 0 else 3 * x + 1\n",
    "  print(x)\n",
    "\n",
    "collatz(1)\n",
    "collatz(10)"
   ]
  },
  {
   "cell_type": "markdown",
   "id": "6c39cf47",
   "metadata": {},
   "source": [
    "## Q5:Write a recursive method binary() that takes a non-negative integer n and prints the binary representation of integer n."
   ]
  },
  {
   "cell_type": "code",
   "execution_count": 24,
   "id": "bbebf0e6",
   "metadata": {},
   "outputs": [
    {
     "name": "stdout",
     "output_type": "stream",
     "text": [
      "0\n",
      "01\n",
      "011\n",
      "01001\n"
     ]
    }
   ],
   "source": [
    "def binary(n):\n",
    "  if n == 0:\n",
    "    return '0'\n",
    "  else:\n",
    "    return binary(n // 2) + str(n % 2)\n",
    "\n",
    "r=binary(0)\n",
    "print(r)\n",
    "r=binary(1)\n",
    "print(r)\n",
    "r=binary(3)\n",
    "print(r)\n",
    "r=binary(9)\n",
    "print(r)"
   ]
  },
  {
   "cell_type": "markdown",
   "id": "19fddfa5",
   "metadata": {},
   "source": [
    "## Q6: Implement a class named HeadingParser that can be used to parse an HTML document, and retrieve and print all the headings in the document. You should implement your class as a subclass of HTMLParser, defined in Standard Library module html.parser. When fed a string containing HTML code, your class should print the headings, one per line and in the order in which they appear in the document. Each heading should be indented as follows: an h1 heading should have indentation 0, and h2 heading should have indentation 1, etc. Test your implementation using w3c.html."
   ]
  },
  {
   "cell_type": "code",
   "execution_count": 26,
   "id": "d1a67389",
   "metadata": {},
   "outputs": [
    {
     "name": "stdout",
     "output_type": "stream",
     "text": [
      "1. W3C Mission \n",
      "  2. Principles  \n"
     ]
    }
   ],
   "source": [
    "from html.parser import HTMLParser\n",
    "\n",
    "class HeadingParser(HTMLParser):\n",
    "  def __init__(self):\n",
    "    super().__init__()\n",
    "    self.headings = {}\n",
    "    self.current_heading = None\n",
    "\n",
    "  def handle_starttag(self, tag, attrs):\n",
    "    if tag.startswith('h') and tag[1:].isdigit():\n",
    "      level = int(tag[1:]) - 1\n",
    "      self.current_heading = level\n",
    "      self.headings[level] = []  \n",
    "\n",
    "  def handle_data(self, data):\n",
    "    if self.current_heading in self.headings:\n",
    "      self.headings[self.current_heading].append(data.strip())\n",
    "\n",
    "  def print_headings(self):\n",
    "    for level, content_list in self.headings.items():\n",
    "      indent = '  ' * level  \n",
    "      print(f\"{indent}{level + 1}. {' '.join(content_list)}\")  \n",
    "\n",
    "# usage (same as before)\n",
    "if __name__ == \"__main__\":\n",
    "    with open('w3c.txt', 'r') as f:\n",
    "        html_content = f.read()\n",
    "        \n",
    "    parser = HeadingParser()\n",
    "    parser.feed(html_content)\n",
    "    parser.print_headings()"
   ]
  },
  {
   "cell_type": "markdown",
   "id": "d27a5bed",
   "metadata": {},
   "source": [
    "## Q7: Implement recursive function webdir() that takes as input: a URL (as a string) and non-negative integers depth and indent. Your function should visit every web page reachable from the starting URL web page in depth clicks or less, and print each web page's URL."
   ]
  },
  {
   "cell_type": "code",
   "execution_count": 28,
   "id": "eb860bdf",
   "metadata": {},
   "outputs": [
    {
     "name": "stderr",
     "output_type": "stream",
     "text": [
      "DEBUG:root:https://www.georgiancollege.ca/\n",
      "DEBUG:urllib3.connectionpool:Starting new HTTPS connection (1): www.georgiancollege.ca:443\n",
      "DEBUG:urllib3.connectionpool:https://www.georgiancollege.ca:443 \"GET / HTTP/1.1\" 200 None\n",
      "INFO:root: Visiting: https://www.georgiancollege.ca/#main\n",
      "DEBUG:root: https://www.georgiancollege.ca/#main\n",
      "DEBUG:urllib3.connectionpool:Starting new HTTPS connection (1): www.georgiancollege.ca:443\n",
      "DEBUG:urllib3.connectionpool:https://www.georgiancollege.ca:443 \"GET / HTTP/1.1\" 200 None\n",
      "INFO:root:  Visiting: https://www.georgiancollege.ca/\n",
      "DEBUG:root:  https://www.georgiancollege.ca/\n",
      "INFO:root:  Visiting: https://www.georgiancollege.ca/future-students/\n",
      "DEBUG:root:  https://www.georgiancollege.ca/future-students/\n",
      "INFO:root:  Visiting: https://www.georgiancollege.ca/current-students/\n",
      "DEBUG:root:  https://www.georgiancollege.ca/current-students/\n",
      "INFO:root:  Visiting: https://www.georgiancollege.ca/international/\n",
      "DEBUG:root:  https://www.georgiancollege.ca/international/\n",
      "INFO:root:  Visiting: https://www.georgiancollege.ca/indigenous-initiatives/\n",
      "DEBUG:root:  https://www.georgiancollege.ca/indigenous-initiatives/\n",
      "INFO:root:  Visiting: https://www.georgiancollege.ca/military/\n",
      "DEBUG:root:  https://www.georgiancollege.ca/military/\n",
      "INFO:root:  Visiting: https://www.georgiancollege.ca/parents/\n",
      "DEBUG:root:  https://www.georgiancollege.ca/parents/\n",
      "INFO:root:  Visiting: https://www.georgiancollege.ca/community-alumni/alumni/\n",
      "DEBUG:root:  https://www.georgiancollege.ca/community-alumni/alumni/\n",
      "INFO:root:  Visiting: https://www.georgiancollege.ca/employers-partners/\n",
      "DEBUG:root:  https://www.georgiancollege.ca/employers-partners/\n",
      "INFO:root:  Visiting: https://www.georgiancollege.ca/community-alumni/giving/\n",
      "DEBUG:root:  https://www.georgiancollege.ca/community-alumni/giving/\n",
      "INFO:root:  Visiting: https://www.georgiancollege.ca/about-georgian/contact-us/student-recruitment-team/\n",
      "DEBUG:root:  https://www.georgiancollege.ca/about-georgian/contact-us/student-recruitment-team/\n",
      "INFO:root:  Visiting: https://www.georgiancollege.ca/academics/programs/\n",
      "DEBUG:root:  https://www.georgiancollege.ca/academics/programs/\n",
      "INFO:root:  Visiting: https://www.georgiancollege.ca/academics/new-programs/\n",
      "DEBUG:root:  https://www.georgiancollege.ca/academics/new-programs/\n",
      "INFO:root:  Visiting: https://www.georgiancollege.ca/academics/apprenticeships/\n",
      "DEBUG:root:  https://www.georgiancollege.ca/academics/apprenticeships/\n",
      "INFO:root:  Visiting: https://www.georgiancollege.ca/academics/degrees/\n",
      "DEBUG:root:  https://www.georgiancollege.ca/academics/degrees/\n",
      "INFO:root:  Visiting: https://www.georgiancollege.ca/academics/graduate-certificates/\n",
      "DEBUG:root:  https://www.georgiancollege.ca/academics/graduate-certificates/\n",
      "INFO:root:  Visiting: https://www.georgiancollege.ca/academics/programs/?campus=barrie\n",
      "DEBUG:root:  https://www.georgiancollege.ca/academics/programs/?campus=barrie\n",
      "INFO:root:  Visiting: https://www.georgiancollege.ca/academics/programs/?campus=midland\n",
      "DEBUG:root:  https://www.georgiancollege.ca/academics/programs/?campus=midland\n",
      "INFO:root:  Visiting: https://www.georgiancollege.ca/academics/programs/?campus=muskoka\n",
      "DEBUG:root:  https://www.georgiancollege.ca/academics/programs/?campus=muskoka\n",
      "INFO:root:  Visiting: https://www.georgiancollege.ca/academics/programs/?campus=orangeville\n",
      "DEBUG:root:  https://www.georgiancollege.ca/academics/programs/?campus=orangeville\n",
      "INFO:root:  Visiting: https://www.georgiancollege.ca/academics/programs/?campus=orillia\n",
      "DEBUG:root:  https://www.georgiancollege.ca/academics/programs/?campus=orillia\n",
      "INFO:root:  Visiting: https://www.georgiancollege.ca/academics/programs/?campus=owen%20sound\n",
      "DEBUG:root:  https://www.georgiancollege.ca/academics/programs/?campus=owen%20sound\n",
      "INFO:root:  Visiting: https://www.georgiancollege.ca/academics/programs/?campus=south%20georgian%20bay\n",
      "DEBUG:root:  https://www.georgiancollege.ca/academics/programs/?campus=south%20georgian%20bay\n",
      "INFO:root:  Visiting: https://www.georgiancollege.ca/academics/academic-areas/automotive-business/\n",
      "DEBUG:root:  https://www.georgiancollege.ca/academics/academic-areas/automotive-business/\n",
      "INFO:root:  Visiting: https://www.georgiancollege.ca/academics/academic-areas/business-and-management/\n",
      "DEBUG:root:  https://www.georgiancollege.ca/academics/academic-areas/business-and-management/\n",
      "INFO:root:  Visiting: https://www.georgiancollege.ca/academics/academic-areas/community-safety/\n",
      "DEBUG:root:  https://www.georgiancollege.ca/academics/academic-areas/community-safety/\n",
      "INFO:root:  Visiting: https://www.georgiancollege.ca/academics/academic-areas/computer-studies/\n",
      "DEBUG:root:  https://www.georgiancollege.ca/academics/academic-areas/computer-studies/\n",
      "INFO:root:  Visiting: https://www.georgiancollege.ca/academics/academic-areas/design-and-visual-arts/\n",
      "DEBUG:root:  https://www.georgiancollege.ca/academics/academic-areas/design-and-visual-arts/\n",
      "INFO:root:  Visiting: https://www.georgiancollege.ca/academics/academic-areas/engineering-and-environmental-technologies/\n",
      "DEBUG:root:  https://www.georgiancollege.ca/academics/academic-areas/engineering-and-environmental-technologies/\n",
      "INFO:root:  Visiting: https://www.georgiancollege.ca/academics/academic-areas/health-wellness-and-sciences/\n",
      "DEBUG:root:  https://www.georgiancollege.ca/academics/academic-areas/health-wellness-and-sciences/\n",
      "INFO:root:  Visiting: https://www.georgiancollege.ca/academics/academic-areas/hospitality-tourism-and-recreation/\n",
      "DEBUG:root:  https://www.georgiancollege.ca/academics/academic-areas/hospitality-tourism-and-recreation/\n",
      "INFO:root:  Visiting: https://www.georgiancollege.ca/academics/academic-areas/human-services/\n",
      "DEBUG:root:  https://www.georgiancollege.ca/academics/academic-areas/human-services/\n",
      "INFO:root:  Visiting: https://www.georgiancollege.ca/academics/academic-areas/indigenous-studies/\n",
      "DEBUG:root:  https://www.georgiancollege.ca/academics/academic-areas/indigenous-studies/\n",
      "INFO:root:  Visiting: https://www.georgiancollege.ca/academics/academic-areas/liberal-arts/\n",
      "DEBUG:root:  https://www.georgiancollege.ca/academics/academic-areas/liberal-arts/\n",
      "INFO:root:  Visiting: https://www.georgiancollege.ca/academics/academic-areas/marine-studies/\n",
      "DEBUG:root:  https://www.georgiancollege.ca/academics/academic-areas/marine-studies/\n",
      "INFO:root:  Visiting: https://www.georgiancollege.ca/academics/academic-areas/skilled-trades/\n",
      "DEBUG:root:  https://www.georgiancollege.ca/academics/academic-areas/skilled-trades/\n",
      "INFO:root:  Visiting: https://www.georgiancollege.ca/academics/continuing-education/\n",
      "DEBUG:root:  https://www.georgiancollege.ca/academics/continuing-education/\n",
      "INFO:root:  Visiting: https://www.georgiancollege.ca/academics/continuing-education/courses/\n",
      "DEBUG:root:  https://www.georgiancollege.ca/academics/continuing-education/courses/\n",
      "INFO:root:  Visiting: https://www.georgiancollege.ca/academics/continuing-education/programs/\n",
      "DEBUG:root:  https://www.georgiancollege.ca/academics/continuing-education/programs/\n",
      "INFO:root:  Visiting: https://www.georgiancollege.ca/academics/online-learning/\n",
      "DEBUG:root:  https://www.georgiancollege.ca/academics/online-learning/\n",
      "INFO:root:  Visiting: https://www.georgiancollege.ca/academics/micro-credentials/\n",
      "DEBUG:root:  https://www.georgiancollege.ca/academics/micro-credentials/\n",
      "INFO:root:  Visiting: https://www.georgiancollege.ca/academics/continuing-education/information-centre/\n",
      "DEBUG:root:  https://www.georgiancollege.ca/academics/continuing-education/information-centre/\n",
      "INFO:root:  Visiting: https://www.georgiancollege.ca/academics/continuing-education/contact-us/\n",
      "DEBUG:root:  https://www.georgiancollege.ca/academics/continuing-education/contact-us/\n",
      "INFO:root:  Visiting: https://www.georgiancollege.ca/corporate-training/\n",
      "DEBUG:root:  https://www.georgiancollege.ca/corporate-training/\n",
      "INFO:root:  Visiting: https://www.georgiancollege.ca/international/programs/\n",
      "DEBUG:root:  https://www.georgiancollege.ca/international/programs/\n",
      "INFO:root:  Visiting: https://www.georgiancollege.ca/academics/academic-and-career-preparation/\n",
      "DEBUG:root:  https://www.georgiancollege.ca/academics/academic-and-career-preparation/\n",
      "INFO:root:  Visiting: https://www.georgiancollege.ca/academics/english-language-studies/\n"
     ]
    },
    {
     "name": "stderr",
     "output_type": "stream",
     "text": [
      "DEBUG:root:  https://www.georgiancollege.ca/academics/english-language-studies/\n",
      "INFO:root:  Visiting: https://www.georgiancollege.ca/admissions/apply/\n",
      "DEBUG:root:  https://www.georgiancollege.ca/admissions/apply/\n",
      "INFO:root:  Visiting: https://www.georgiancollege.ca/about-georgian/contact-us/mailing-list/\n",
      "DEBUG:root:  https://www.georgiancollege.ca/about-georgian/contact-us/mailing-list/\n",
      "INFO:root:  Visiting: https://www.georgiancollege.ca/admissions/track-application/\n",
      "DEBUG:root:  https://www.georgiancollege.ca/admissions/track-application/\n",
      "INFO:root:  Visiting: https://www.georgiancollege.ca/admissions/accept-offer/\n",
      "DEBUG:root:  https://www.georgiancollege.ca/admissions/accept-offer/\n",
      "INFO:root:  Visiting: https://www.georgiancollege.ca/admissions/confirm-seat/\n",
      "DEBUG:root:  https://www.georgiancollege.ca/admissions/confirm-seat/\n",
      "INFO:root:  Visiting: https://www.georgiancollege.ca/admissions/register/\n",
      "DEBUG:root:  https://www.georgiancollege.ca/admissions/register/\n",
      "INFO:root:  Visiting: https://www.georgiancollege.ca/admissions/academic-regulations/\n",
      "DEBUG:root:  https://www.georgiancollege.ca/admissions/academic-regulations/\n",
      "INFO:root:  Visiting: https://www.georgiancollege.ca/admissions/admission-requirement-forms/\n",
      "DEBUG:root:  https://www.georgiancollege.ca/admissions/admission-requirement-forms/\n",
      "INFO:root:  Visiting: https://www.georgiancollege.ca/admissions/apply/highly-competitive-programs/\n",
      "DEBUG:root:  https://www.georgiancollege.ca/admissions/apply/highly-competitive-programs/\n",
      "INFO:root:  Visiting: https://www.georgiancollege.ca/admissions/important-dates/\n",
      "DEBUG:root:  https://www.georgiancollege.ca/admissions/important-dates/\n",
      "INFO:root:  Visiting: https://www.georgiancollege.ca/student-life/student-services/placement-offices/\n",
      "DEBUG:root:  https://www.georgiancollege.ca/student-life/student-services/placement-offices/\n",
      "INFO:root:  Visiting: https://www.georgiancollege.ca/admissions/credit-transfer/\n",
      "DEBUG:root:  https://www.georgiancollege.ca/admissions/credit-transfer/\n",
      "INFO:root:  Visiting: https://www.georgiancollege.ca/international/admissions/\n",
      "DEBUG:root:  https://www.georgiancollege.ca/international/admissions/\n",
      "INFO:root:  Visiting: https://www.georgiancollege.ca/international/admissions/#admission-requirements\n",
      "DEBUG:root:  https://www.georgiancollege.ca/international/admissions/#admission-requirements\n",
      "INFO:root:  Visiting: https://www.georgiancollege.ca/international/contact-us/\n",
      "DEBUG:root:  https://www.georgiancollege.ca/international/contact-us/\n",
      "INFO:root:  Visiting: https://www.georgiancollege.ca/international/admissions/#learn-how-to-apply\n",
      "DEBUG:root:  https://www.georgiancollege.ca/international/admissions/#learn-how-to-apply\n",
      "INFO:root:  Visiting: https://www.georgiancollege.ca/admissions/contact/\n",
      "DEBUG:root:  https://www.georgiancollege.ca/admissions/contact/\n",
      "INFO:root:  Visiting: https://www.georgiancollege.ca/finance-and-fees/awards/\n",
      "DEBUG:root:  https://www.georgiancollege.ca/finance-and-fees/awards/\n",
      "INFO:root:  Visiting: https://www.georgiancollege.ca/finance-and-fees/budgeting-tips-tricks/\n",
      "DEBUG:root:  https://www.georgiancollege.ca/finance-and-fees/budgeting-tips-tricks/\n",
      "INFO:root:  Visiting: https://www.georgiancollege.ca/finance-and-fees/osap-financial-aid/\n",
      "DEBUG:root:  https://www.georgiancollege.ca/finance-and-fees/osap-financial-aid/\n",
      "INFO:root:  Visiting: https://www.georgiancollege.ca/finance-and-fees/better-jobs-ontario/\n",
      "DEBUG:root:  https://www.georgiancollege.ca/finance-and-fees/better-jobs-ontario/\n",
      "INFO:root:  Visiting: https://www.georgiancollege.ca/finance-and-fees/ontario-learn-and-stay-grant/\n",
      "DEBUG:root:  https://www.georgiancollege.ca/finance-and-fees/ontario-learn-and-stay-grant/\n",
      "INFO:root:  Visiting: https://www.georgiancollege.ca/finance-and-fees/work-study-program/\n",
      "DEBUG:root:  https://www.georgiancollege.ca/finance-and-fees/work-study-program/\n",
      "INFO:root:  Visiting: https://www.georgiancollege.ca/finance-and-fees/extended-society-care-bursary/\n",
      "DEBUG:root:  https://www.georgiancollege.ca/finance-and-fees/extended-society-care-bursary/\n",
      "INFO:root:  Visiting: https://www.georgiancollege.ca/finance-and-fees/schulich-builders-scholarships-for-skilled-trades/\n",
      "DEBUG:root:  https://www.georgiancollege.ca/finance-and-fees/schulich-builders-scholarships-for-skilled-trades/\n",
      "INFO:root:  Visiting: https://www.georgiancollege.ca/finance-and-fees/students-with-disabilities-bursary/\n",
      "DEBUG:root:  https://www.georgiancollege.ca/finance-and-fees/students-with-disabilities-bursary/\n",
      "INFO:root:  Visiting: https://www.georgiancollege.ca/finance-and-fees/payment-information/\n",
      "DEBUG:root:  https://www.georgiancollege.ca/finance-and-fees/payment-information/\n",
      "INFO:root:  Visiting: https://www.georgiancollege.ca/student-life/campus-services/onecard/\n",
      "DEBUG:root:  https://www.georgiancollege.ca/student-life/campus-services/onecard/\n",
      "INFO:root:  Visiting: https://www.georgiancollege.ca/about-georgian/visit-us/parking/\n",
      "DEBUG:root:  https://www.georgiancollege.ca/about-georgian/visit-us/parking/\n",
      "INFO:root:  Visiting: https://www.georgiancollege.ca/finance-and-fees/program-specific-fees/\n",
      "DEBUG:root:  https://www.georgiancollege.ca/finance-and-fees/program-specific-fees/\n",
      "INFO:root:  Visiting: https://www.georgiancollege.ca/finance-and-fees/tuition-and-ancillary-fees/\n",
      "DEBUG:root:  https://www.georgiancollege.ca/finance-and-fees/tuition-and-ancillary-fees/\n",
      "INFO:root:  Visiting: https://www.georgiancollege.ca/international/finance-and-fees/\n",
      "DEBUG:root:  https://www.georgiancollege.ca/international/finance-and-fees/\n",
      "INFO:root:  Visiting: https://www.georgiancollege.ca/international/finance-and-fees/#how-to-pay-your-fees\n",
      "DEBUG:root:  https://www.georgiancollege.ca/international/finance-and-fees/#how-to-pay-your-fees\n",
      "INFO:root:  Visiting: https://www.georgiancollege.ca/international/finance-and-fees/#tuition-fees\n",
      "DEBUG:root:  https://www.georgiancollege.ca/international/finance-and-fees/#tuition-fees\n",
      "INFO:root:  Visiting: https://www.georgiancollege.ca/student-life/athletics/\n",
      "DEBUG:root:  https://www.georgiancollege.ca/student-life/athletics/\n",
      "INFO:root:  Visiting: https://www.georgiancollege.ca/student-life/esports/\n",
      "DEBUG:root:  https://www.georgiancollege.ca/student-life/esports/\n",
      "INFO:root:  Visiting: https://www.georgiancollege.ca/student-life/students-administrative-council/\n",
      "DEBUG:root:  https://www.georgiancollege.ca/student-life/students-administrative-council/\n",
      "INFO:root:  Visiting: https://www.georgiancollege.ca/student-life/students-administrative-council/awards-and-grants/\n",
      "DEBUG:root:  https://www.georgiancollege.ca/student-life/students-administrative-council/awards-and-grants/\n",
      "INFO:root:  Visiting: https://www.georgiancollege.ca/student-life/students-administrative-council/clubs-associations/\n",
      "DEBUG:root:  https://www.georgiancollege.ca/student-life/students-administrative-council/clubs-associations/\n",
      "INFO:root:  Visiting: https://www.georgiancollege.ca/student-life/students-administrative-council/events/\n",
      "DEBUG:root:  https://www.georgiancollege.ca/student-life/students-administrative-council/events/\n",
      "INFO:root:  Visiting: https://www.georgiancollege.ca/student-life/students-administrative-council/get-involved/\n",
      "DEBUG:root:  https://www.georgiancollege.ca/student-life/students-administrative-council/get-involved/\n",
      "INFO:root:  Visiting: https://www.georgiancollege.ca/student-life/students-administrative-council/services/\n",
      "DEBUG:root:  https://www.georgiancollege.ca/student-life/students-administrative-council/services/\n",
      "INFO:root:  Visiting: https://www.georgiancollege.ca/student-life/orientation/#head-start\n",
      "DEBUG:root:  https://www.georgiancollege.ca/student-life/orientation/#head-start\n",
      "INFO:root:  Visiting: https://www.georgiancollege.ca/student-life/orientation/#orientation\n",
      "DEBUG:root:  https://www.georgiancollege.ca/student-life/orientation/#orientation\n",
      "INFO:root:  Visiting: https://www.georgiancollege.ca/student-life/orientation/#peer-mentors\n",
      "DEBUG:root:  https://www.georgiancollege.ca/student-life/orientation/#peer-mentors\n",
      "INFO:root:  Visiting: https://www.georgiancollege.ca/about-georgian/campus-safety-and-security/\n",
      "DEBUG:root:  https://www.georgiancollege.ca/about-georgian/campus-safety-and-security/\n",
      "INFO:root:  Visiting: https://www.georgiancollege.ca/student-life/campus-services/bear-essentials/\n"
     ]
    },
    {
     "name": "stderr",
     "output_type": "stream",
     "text": [
      "DEBUG:root:  https://www.georgiancollege.ca/student-life/campus-services/bear-essentials/\n",
      "INFO:root:  Visiting: https://www.georgiancollege.ca/student-life/campus-services/campus-food-services/\n",
      "DEBUG:root:  https://www.georgiancollege.ca/student-life/campus-services/campus-food-services/\n",
      "INFO:root:  Visiting: https://www.georgiancollege.ca/student-life/campus-services/information-technology/\n",
      "DEBUG:root:  https://www.georgiancollege.ca/student-life/campus-services/information-technology/\n",
      "INFO:root:  Visiting: https://www.georgiancollege.ca/student-life/campus-services/residence-housing/\n",
      "DEBUG:root:  https://www.georgiancollege.ca/student-life/campus-services/residence-housing/\n",
      "INFO:root:  Visiting: https://www.georgiancollege.ca/about-georgian/visit-us/transit/\n",
      "DEBUG:root:  https://www.georgiancollege.ca/about-georgian/visit-us/transit/\n",
      "INFO:root:  Visiting: https://www.georgiancollege.ca/admissions/forms/\n",
      "DEBUG:root:  https://www.georgiancollege.ca/admissions/forms/\n",
      "INFO:root:  Visiting: https://www.georgiancollege.ca/student-life/graduation/\n",
      "DEBUG:root:  https://www.georgiancollege.ca/student-life/graduation/\n",
      "INFO:root:  Visiting: https://www.georgiancollege.ca/mypath/\n",
      "DEBUG:root:  https://www.georgiancollege.ca/mypath/\n",
      "INFO:root:  Visiting: https://www.georgiancollege.ca/admissions/transcript/\n",
      "DEBUG:root:  https://www.georgiancollege.ca/admissions/transcript/\n",
      "INFO:root:  Visiting: https://www.georgiancollege.ca/student-life/student-services/\n",
      "DEBUG:root:  https://www.georgiancollege.ca/student-life/student-services/\n",
      "INFO:root:  Visiting: https://www.georgiancollege.ca/student-life/student-services/accessibility-services/\n",
      "DEBUG:root:  https://www.georgiancollege.ca/student-life/student-services/accessibility-services/\n",
      "INFO:root:  Visiting: https://www.georgiancollege.ca/student-life/student-services/co-op-and-career-services/\n",
      "DEBUG:root:  https://www.georgiancollege.ca/student-life/student-services/co-op-and-career-services/\n",
      "INFO:root:  Visiting: https://www.georgiancollege.ca/student-life/student-services/counselling/\n",
      "DEBUG:root:  https://www.georgiancollege.ca/student-life/student-services/counselling/\n",
      "INFO:root:  Visiting: https://www.georgiancollege.ca/student-life/student-services/health-services/\n",
      "DEBUG:root:  https://www.georgiancollege.ca/student-life/student-services/health-services/\n",
      "INFO:root:  Visiting: https://www.georgiancollege.ca/student-life/student-services/indigenous-student-support/\n",
      "DEBUG:root:  https://www.georgiancollege.ca/student-life/student-services/indigenous-student-support/\n",
      "INFO:root:  Visiting: https://www.georgiancollege.ca/student-life/student-services/student-advising/\n",
      "DEBUG:root:  https://www.georgiancollege.ca/student-life/student-services/student-advising/\n",
      "INFO:root:  Visiting: https://www.georgiancollege.ca/student-life/student-services/testing/\n",
      "DEBUG:root:  https://www.georgiancollege.ca/student-life/student-services/testing/\n",
      "INFO:root:  Visiting: https://www.georgiancollege.ca/student-life/remote-learning-and-supports/\n",
      "DEBUG:root:  https://www.georgiancollege.ca/student-life/remote-learning-and-supports/\n",
      "INFO:root:  Visiting: https://www.georgiancollege.ca/about-georgian/visit-us/campus-tours/\n",
      "DEBUG:root:  https://www.georgiancollege.ca/about-georgian/visit-us/campus-tours/\n",
      "INFO:root:  Visiting: https://www.georgiancollege.ca/community-alumni/advanced-technology-centre/\n",
      "DEBUG:root:  https://www.georgiancollege.ca/community-alumni/advanced-technology-centre/\n",
      "INFO:root:  Visiting: https://www.georgiancollege.ca/community-alumni/changemaker-college/\n",
      "DEBUG:root:  https://www.georgiancollege.ca/community-alumni/changemaker-college/\n",
      "INFO:root:  Visiting: https://www.georgiancollege.ca/community-alumni/applied-research-and-innovation/\n",
      "DEBUG:root:  https://www.georgiancollege.ca/community-alumni/applied-research-and-innovation/\n",
      "INFO:root:  Visiting: https://www.georgiancollege.ca/community-alumni/entrepreneurship-centre/\n",
      "DEBUG:root:  https://www.georgiancollege.ca/community-alumni/entrepreneurship-centre/\n",
      "INFO:root:  Visiting: https://www.georgiancollege.ca/community-alumni/conference-services/\n",
      "DEBUG:root:  https://www.georgiancollege.ca/community-alumni/conference-services/\n",
      "INFO:root:  Visiting: https://www.georgiancollege.ca/community-alumni/centre-for-career-and-employment-services/\n",
      "DEBUG:root:  https://www.georgiancollege.ca/community-alumni/centre-for-career-and-employment-services/\n",
      "INFO:root:  Visiting: https://www.georgiancollege.ca/community-alumni/centre-for-career-and-employment-services/job-seekers/\n",
      "DEBUG:root:  https://www.georgiancollege.ca/community-alumni/centre-for-career-and-employment-services/job-seekers/\n",
      "INFO:root:  Visiting: https://www.georgiancollege.ca/community-alumni/centre-for-career-and-employment-services/employers/\n",
      "DEBUG:root:  https://www.georgiancollege.ca/community-alumni/centre-for-career-and-employment-services/employers/\n",
      "INFO:root:  Visiting: https://www.georgiancollege.ca/community-alumni/centre-for-career-and-employment-services/jobs-for-youth/\n",
      "DEBUG:root:  https://www.georgiancollege.ca/community-alumni/centre-for-career-and-employment-services/jobs-for-youth/\n",
      "INFO:root:  Visiting: https://www.georgiancollege.ca/community-alumni/alumni/about-us/\n",
      "DEBUG:root:  https://www.georgiancollege.ca/community-alumni/alumni/about-us/\n",
      "INFO:root:  Visiting: https://www.georgiancollege.ca/community-alumni/alumni/alumni-perks/\n",
      "DEBUG:root:  https://www.georgiancollege.ca/community-alumni/alumni/alumni-perks/\n",
      "INFO:root:  Visiting: https://www.georgiancollege.ca/community-alumni/alumni/stories/#publications\n",
      "DEBUG:root:  https://www.georgiancollege.ca/community-alumni/alumni/stories/#publications\n",
      "INFO:root:  Visiting: https://www.georgiancollege.ca/community-alumni/alumni/update-my-profile/\n",
      "DEBUG:root:  https://www.georgiancollege.ca/community-alumni/alumni/update-my-profile/\n",
      "INFO:root:  Visiting: https://www.georgiancollege.ca/community-alumni/giving/causes-to-support/\n",
      "DEBUG:root:  https://www.georgiancollege.ca/community-alumni/giving/causes-to-support/\n",
      "INFO:root:  Visiting: https://www.georgiancollege.ca/community-alumni/community-sponsorships/\n",
      "DEBUG:root:  https://www.georgiancollege.ca/community-alumni/community-sponsorships/\n",
      "INFO:root:  Visiting: https://www.georgiancollege.ca/community-alumni/georgian-dining-room/\n",
      "DEBUG:root:  https://www.georgiancollege.ca/community-alumni/georgian-dining-room/\n",
      "INFO:root:  Visiting: https://www.georgiancollege.ca/community-alumni/health-and-wellness-clinics/acupuncture-clinic/\n",
      "DEBUG:root:  https://www.georgiancollege.ca/community-alumni/health-and-wellness-clinics/acupuncture-clinic/\n",
      "INFO:root:  Visiting: https://www.georgiancollege.ca/community-alumni/health-and-wellness-clinics/occupational-therapy-paediatric-clinic/\n",
      "DEBUG:root:  https://www.georgiancollege.ca/community-alumni/health-and-wellness-clinics/occupational-therapy-paediatric-clinic/\n",
      "INFO:root:  Visiting: https://www.georgiancollege.ca/community-alumni/health-and-wellness-clinics/oral-health/\n",
      "DEBUG:root:  https://www.georgiancollege.ca/community-alumni/health-and-wellness-clinics/oral-health/\n",
      "INFO:root:  Visiting: https://www.georgiancollege.ca/community-alumni/health-and-wellness-clinics/spa-and-esthetics/\n",
      "DEBUG:root:  https://www.georgiancollege.ca/community-alumni/health-and-wellness-clinics/spa-and-esthetics/\n",
      "INFO:root:  Visiting: https://www.georgiancollege.ca/community-alumni/health-and-wellness-clinics/speech-hearing-language/\n",
      "DEBUG:root:  https://www.georgiancollege.ca/community-alumni/health-and-wellness-clinics/speech-hearing-language/\n",
      "INFO:root:  Visiting: https://www.georgiancollege.ca/community-alumni/health-and-wellness-clinics/student-hair-studio/\n",
      "DEBUG:root:  https://www.georgiancollege.ca/community-alumni/health-and-wellness-clinics/student-hair-studio/\n",
      "INFO:root:  Visiting: https://www.georgiancollege.ca/community-alumni/health-and-wellness-clinics/student-massage-therapy-clinic/\n",
      "DEBUG:root:  https://www.georgiancollege.ca/community-alumni/health-and-wellness-clinics/student-massage-therapy-clinic/\n",
      "INFO:root:  Visiting: https://www.georgiancollege.ca/community-alumni/health-and-wellness-clinics/veterinary-hospital/\n",
      "DEBUG:root:  https://www.georgiancollege.ca/community-alumni/health-and-wellness-clinics/veterinary-hospital/\n"
     ]
    },
    {
     "name": "stderr",
     "output_type": "stream",
     "text": [
      "INFO:root:  Visiting: https://www.georgiancollege.ca/student-life/student-services/co-op-and-career-services/employers/\n",
      "DEBUG:root:  https://www.georgiancollege.ca/student-life/student-services/co-op-and-career-services/employers/\n",
      "INFO:root:  Visiting: https://www.georgiancollege.ca/events/\n",
      "DEBUG:root:  https://www.georgiancollege.ca/events/\n",
      "INFO:root:  Visiting: https://www.georgiancollege.ca/blog/\n",
      "DEBUG:root:  https://www.georgiancollege.ca/blog/\n",
      "INFO:root:  Visiting: https://www.georgiancollege.ca/about-georgian/campuses/barrie-campus/\n",
      "DEBUG:root:  https://www.georgiancollege.ca/about-georgian/campuses/barrie-campus/\n",
      "INFO:root:  Visiting: https://www.georgiancollege.ca/about-georgian/campuses/barrie-campus/downtown-barrie-location/\n",
      "DEBUG:root:  https://www.georgiancollege.ca/about-georgian/campuses/barrie-campus/downtown-barrie-location/\n",
      "INFO:root:  Visiting: https://www.georgiancollege.ca/about-georgian/campuses/midland-campus/\n",
      "DEBUG:root:  https://www.georgiancollege.ca/about-georgian/campuses/midland-campus/\n",
      "INFO:root:  Visiting: https://www.georgiancollege.ca/about-georgian/campuses/muskoka-campus/\n",
      "DEBUG:root:  https://www.georgiancollege.ca/about-georgian/campuses/muskoka-campus/\n",
      "INFO:root:  Visiting: https://www.georgiancollege.ca/about-georgian/campuses/orangeville-campus/\n",
      "DEBUG:root:  https://www.georgiancollege.ca/about-georgian/campuses/orangeville-campus/\n",
      "INFO:root:  Visiting: https://www.georgiancollege.ca/about-georgian/campuses/orillia-campus/\n",
      "DEBUG:root:  https://www.georgiancollege.ca/about-georgian/campuses/orillia-campus/\n",
      "INFO:root:  Visiting: https://www.georgiancollege.ca/about-georgian/campuses/owen-sound-campus/\n",
      "DEBUG:root:  https://www.georgiancollege.ca/about-georgian/campuses/owen-sound-campus/\n",
      "INFO:root:  Visiting: https://www.georgiancollege.ca/about-georgian/campuses/south-georgian-bay-campus/\n",
      "DEBUG:root:  https://www.georgiancollege.ca/about-georgian/campuses/south-georgian-bay-campus/\n",
      "INFO:root:  Visiting: https://www.georgiancollege.ca/about-georgian/visit-us/\n",
      "DEBUG:root:  https://www.georgiancollege.ca/about-georgian/visit-us/\n",
      "INFO:root:  Visiting: https://www.georgiancollege.ca/about-georgian/visit-us/maps-directions/\n",
      "DEBUG:root:  https://www.georgiancollege.ca/about-georgian/visit-us/maps-directions/\n",
      "INFO:root:  Visiting: https://www.georgiancollege.ca/about-georgian/corporate-information/accessibility/\n",
      "DEBUG:root:  https://www.georgiancollege.ca/about-georgian/corporate-information/accessibility/\n",
      "INFO:root:  Visiting: https://www.georgiancollege.ca/about-georgian/corporate-information/president/board-of-governors/\n",
      "DEBUG:root:  https://www.georgiancollege.ca/about-georgian/corporate-information/president/board-of-governors/\n",
      "INFO:root:  Visiting: https://www.georgiancollege.ca/about-georgian/corporate-information/environmental-sustainability/\n",
      "DEBUG:root:  https://www.georgiancollege.ca/about-georgian/corporate-information/environmental-sustainability/\n",
      "INFO:root:  Visiting: https://www.georgiancollege.ca/about-georgian/corporate-information/equity-diversity-inclusion-and-belonging/\n",
      "DEBUG:root:  https://www.georgiancollege.ca/about-georgian/corporate-information/equity-diversity-inclusion-and-belonging/\n",
      "INFO:root:  Visiting: https://www.georgiancollege.ca/about-georgian/corporate-information/indigenization/\n",
      "DEBUG:root:  https://www.georgiancollege.ca/about-georgian/corporate-information/indigenization/\n",
      "INFO:root:  Visiting: https://www.georgiancollege.ca/about-georgian/corporate-information/mental-heath-and-well-being/\n",
      "DEBUG:root:  https://www.georgiancollege.ca/about-georgian/corporate-information/mental-heath-and-well-being/\n",
      "INFO:root:  Visiting: https://www.georgiancollege.ca/about-georgian/corporate-information/president/\n",
      "DEBUG:root:  https://www.georgiancollege.ca/about-georgian/corporate-information/president/\n",
      "INFO:root:  Visiting: https://www.georgiancollege.ca/about-georgian/corporate-information/president/senior-leadership/\n",
      "DEBUG:root:  https://www.georgiancollege.ca/about-georgian/corporate-information/president/senior-leadership/\n",
      "INFO:root:  Visiting: https://www.georgiancollege.ca/about-georgian/research/research-ethics-board/\n",
      "DEBUG:root:  https://www.georgiancollege.ca/about-georgian/research/research-ethics-board/\n",
      "INFO:root:  Visiting: https://www.georgiancollege.ca/about-georgian/corporate-information/key-performance-indicators/\n",
      "DEBUG:root:  https://www.georgiancollege.ca/about-georgian/corporate-information/key-performance-indicators/\n",
      "INFO:root:  Visiting: https://www.georgiancollege.ca/about-georgian/corporate-information/policies-procedures/\n",
      "DEBUG:root:  https://www.georgiancollege.ca/about-georgian/corporate-information/policies-procedures/\n",
      "INFO:root:  Visiting: https://www.georgiancollege.ca/about-georgian/corporate-information/georgian-publications/\n",
      "DEBUG:root:  https://www.georgiancollege.ca/about-georgian/corporate-information/georgian-publications/\n",
      "INFO:root:  Visiting: https://www.georgiancollege.ca/about-georgian/corporate-information/strategic-plan/\n",
      "DEBUG:root:  https://www.georgiancollege.ca/about-georgian/corporate-information/strategic-plan/\n",
      "INFO:root:  Visiting: https://www.georgiancollege.ca/about-georgian/career-opportunities/\n",
      "DEBUG:root:  https://www.georgiancollege.ca/about-georgian/career-opportunities/\n",
      "INFO:root:  Visiting: https://www.georgiancollege.ca/about-georgian/campus-safety-services/\n",
      "DEBUG:root:  https://www.georgiancollege.ca/about-georgian/campus-safety-services/\n",
      "INFO:root:  Visiting: https://www.georgiancollege.ca/about-georgian/purchasing/\n",
      "DEBUG:root:  https://www.georgiancollege.ca/about-georgian/purchasing/\n",
      "INFO:root:  Visiting: https://www.georgiancollege.ca/ctlae/\n",
      "DEBUG:root:  https://www.georgiancollege.ca/ctlae/\n",
      "INFO:root:  Visiting: https://www.georgiancollege.ca/academics/academic-quality/\n",
      "DEBUG:root:  https://www.georgiancollege.ca/academics/academic-quality/\n",
      "INFO:root:  Visiting: https://www.georgiancollege.ca/program-advisory-committees/\n",
      "DEBUG:root:  https://www.georgiancollege.ca/program-advisory-committees/\n",
      "INFO:root:  Visiting: https://www.georgiancollege.ca/news-events/all-events/get-to-know-georgian/\n",
      "DEBUG:root:  https://www.georgiancollege.ca/news-events/all-events/get-to-know-georgian/\n",
      "INFO:root:  Visiting: https://www.georgiancollege.ca/careermatch/\n",
      "DEBUG:root:  https://www.georgiancollege.ca/careermatch/\n",
      "INFO:root:  Visiting: https://www.georgiancollege.ca/news-events/all-events/open-house/\n",
      "DEBUG:root:  https://www.georgiancollege.ca/news-events/all-events/open-house/\n",
      "INFO:root:  Visiting: https://www.georgiancollege.ca/new-students/\n",
      "DEBUG:root:  https://www.georgiancollege.ca/new-students/\n",
      "INFO:root:  Visiting: https://www.georgiancollege.ca/news-events/all-events/campus-experience-week/\n",
      "DEBUG:root:  https://www.georgiancollege.ca/news-events/all-events/campus-experience-week/\n",
      "INFO:root:  Visiting: https://www.georgiancollege.ca/blog/student-life/co-op-student-of-the-year-discovers-passion-for-civil-engineering/\n",
      "DEBUG:root:  https://www.georgiancollege.ca/blog/student-life/co-op-student-of-the-year-discovers-passion-for-civil-engineering/\n",
      "INFO:root:  Visiting: https://www.georgiancollege.ca/blog/newsroom/georgian-knocks-down-hundreds-of-cereal-boxes-like-dominos-in-student-food-bank-fundraiser/\n",
      "DEBUG:root:  https://www.georgiancollege.ca/blog/newsroom/georgian-knocks-down-hundreds-of-cereal-boxes-like-dominos-in-student-food-bank-fundraiser/\n",
      "INFO:root:  Visiting: https://www.georgiancollege.ca/blog/people-of-georgian/advisor-rediscovering-herself-after-kids-leave-the-nest/\n",
      "DEBUG:root:  https://www.georgiancollege.ca/blog/people-of-georgian/advisor-rediscovering-herself-after-kids-leave-the-nest/\n",
      "INFO:root:  Visiting: https://www.georgiancollege.ca/blog/newsroom/georgian-elizabeth-fry-launch-motorcycle-pilot-program-to-help-youth-changing-course/\n",
      "DEBUG:root:  https://www.georgiancollege.ca/blog/newsroom/georgian-elizabeth-fry-launch-motorcycle-pilot-program-to-help-youth-changing-course/\n",
      "INFO:root:  Visiting: https://www.georgiancollege.ca/blog/people-of-georgian/people-of-georgian-advisor-shares-experience-as-bisexual-woman/\n",
      "DEBUG:root:  https://www.georgiancollege.ca/blog/people-of-georgian/people-of-georgian-advisor-shares-experience-as-bisexual-woman/\n"
     ]
    },
    {
     "name": "stderr",
     "output_type": "stream",
     "text": [
      "INFO:root:  Visiting: https://www.georgiancollege.ca/blog/newsroom/opp-training-exercise-at-georgians-orillia-campus-highlights-community-collaboration/\n",
      "DEBUG:root:  https://www.georgiancollege.ca/blog/newsroom/opp-training-exercise-at-georgians-orillia-campus-highlights-community-collaboration/\n",
      "INFO:root:  Visiting: https://www.georgiancollege.ca/blog/people-of-georgian/theatre-director-promotes-safe-2slgbtqia-spaces/\n",
      "DEBUG:root:  https://www.georgiancollege.ca/blog/people-of-georgian/theatre-director-promotes-safe-2slgbtqia-spaces/\n",
      "INFO:root:  Visiting: https://www.georgiancollege.ca/blog/newsroom/former-georgian-president-and-alumnus-receive-prestigious-awards-at-convocation/\n",
      "DEBUG:root:  https://www.georgiancollege.ca/blog/newsroom/former-georgian-president-and-alumnus-receive-prestigious-awards-at-convocation/\n",
      "INFO:root:  Visiting: https://www.georgiancollege.ca/news-events/events/get-to-know-georgian-july-2024/\n",
      "DEBUG:root:  https://www.georgiancollege.ca/news-events/events/get-to-know-georgian-july-2024/\n",
      "INFO:root:  Visiting: https://www.georgiancollege.ca/news-events/events/get-to-know-georgian-august-2024/\n",
      "DEBUG:root:  https://www.georgiancollege.ca/news-events/events/get-to-know-georgian-august-2024/\n",
      "INFO:root:  Visiting: https://www.georgiancollege.ca/news-events/events/last-day-to-register-for-a-july-start-ontariolearn-course/\n",
      "DEBUG:root:  https://www.georgiancollege.ca/news-events/events/last-day-to-register-for-a-july-start-ontariolearn-course/\n",
      "INFO:root:  Visiting: https://www.georgiancollege.ca/news-events/events/last-day-to-withdraw-from-an-ontariolearn-course-starting-in-july-with-refund/\n",
      "DEBUG:root:  https://www.georgiancollege.ca/news-events/events/last-day-to-withdraw-from-an-ontariolearn-course-starting-in-july-with-refund/\n",
      "INFO:root:  Visiting: https://www.georgiancollege.ca/news-events/events/deposit-due-for-domestic-students-returning-in-the-fall-3/\n",
      "DEBUG:root:  https://www.georgiancollege.ca/news-events/events/deposit-due-for-domestic-students-returning-in-the-fall-3/\n",
      "INFO:root:  Visiting: https://www.georgiancollege.ca/news-events/events/last-day-to-withdraw-from-most-summer-programs-courses-without-academic-penalty-no-refund-2/\n",
      "DEBUG:root:  https://www.georgiancollege.ca/news-events/events/last-day-to-withdraw-from-most-summer-programs-courses-without-academic-penalty-no-refund-2/\n",
      "INFO:root:  Visiting: https://www.georgiancollege.ca/news-events/events/continuing-education-registration-begins-for-all-terms-3/\n",
      "DEBUG:root:  https://www.georgiancollege.ca/news-events/events/continuing-education-registration-begins-for-all-terms-3/\n",
      "INFO:root:  Visiting: https://www.georgiancollege.ca/news-events/events/full-fall-fees-due-for-international-students-3/\n",
      "DEBUG:root:  https://www.georgiancollege.ca/news-events/events/full-fall-fees-due-for-international-students-3/\n",
      "INFO:root:  Visiting: https://www.georgiancollege.ca/about-georgian/student-recruitment-team/\n",
      "DEBUG:root:  https://www.georgiancollege.ca/about-georgian/student-recruitment-team/\n",
      "INFO:root:  Visiting: https://www.georgiancollege.ca/privacy-policy/\n",
      "DEBUG:root:  https://www.georgiancollege.ca/privacy-policy/\n"
     ]
    }
   ],
   "source": [
    "import requests\n",
    "from bs4 import BeautifulSoup\n",
    "from urllib.parse import urljoin, urlparse\n",
    "import logging\n",
    "\n",
    "def webdir(url, depth, indent=0, visited=None):\n",
    "  if visited is None:\n",
    "    visited = set()\n",
    "\n",
    "  # Configure logging (optional)\n",
    "  logging.basicConfig(level=logging.DEBUG)  # Example: Set logging level\n",
    "\n",
    "  # Log the URL with indentation\n",
    "  logging.debug(' ' * indent + url)\n",
    "\n",
    "  # Base case: stop recursion when depth is 0\n",
    "  if depth == 0:\n",
    "    return\n",
    "\n",
    "  try:\n",
    "    # Make a request and handle bad responses\n",
    "    response = requests.get(url)\n",
    "    response.raise_for_status()\n",
    "\n",
    "    # Parse the HTML content\n",
    "    soup = BeautifulSoup(response.content, 'html.parser')\n",
    "\n",
    "    # Find all links with proper href attributes\n",
    "    links = soup.find_all('a', href=True)\n",
    "\n",
    "    for link in links:\n",
    "      href = link['href']\n",
    "\n",
    "      # Construct and normalize the absolute URL\n",
    "      absolute_url = urljoin(url, href)\n",
    "      parsed_url = urlparse(absolute_url)\n",
    "\n",
    "      # Skip non-http(s) and external links\n",
    "      if parsed_url.scheme not in ('http', 'https'):\n",
    "        continue\n",
    "      if parsed_url.netloc != urlparse(url).netloc:  # Check for same domain\n",
    "        continue\n",
    "\n",
    "      # Check if URL is not visited yet\n",
    "      if absolute_url not in visited:\n",
    "        visited.add(absolute_url)\n",
    "        logging.info(' ' * (indent + 1) + f\"Visiting: {absolute_url}\")  # Log visit\n",
    "        webdir(absolute_url, depth - 1, indent + 1, visited)\n",
    "\n",
    "  except requests.exceptions.RequestException as e:\n",
    "    logging.error(' ' * (indent + 1) + f\"Error: {e}\")  # Log error\n",
    "\n",
    "webdir(\"https://www.georgiancollege.ca/\", 2)\n"
   ]
  },
  {
   "cell_type": "markdown",
   "id": "9cacf375",
   "metadata": {},
   "source": [
    "## Q8:Write SQL queries on the below database table that return: "
   ]
  },
  {
   "cell_type": "code",
   "execution_count": 30,
   "id": "e8d5b6c0",
   "metadata": {},
   "outputs": [],
   "source": [
    "import sqlite3\n",
    "\n",
    "connection = sqlite3.connect(':memory:')\n",
    "pointer = connection.cursor()"
   ]
  },
  {
   "cell_type": "code",
   "execution_count": 31,
   "id": "81378e3d",
   "metadata": {},
   "outputs": [
    {
     "data": {
      "text/plain": [
       "<sqlite3.Cursor at 0x1d224ec5f40>"
      ]
     },
     "execution_count": 31,
     "metadata": {},
     "output_type": "execute_result"
    }
   ],
   "source": [
    "pointer.execute('''\n",
    "    CREATE TABLE WeatherData (\n",
    "        City TEXT,\n",
    "        Country TEXT,\n",
    "        Season TEXT,\n",
    "        Temperature REAL,\n",
    "        Rainfall REAL\n",
    "    )\n",
    "''')"
   ]
  },
  {
   "cell_type": "code",
   "execution_count": 32,
   "id": "0dbc3518",
   "metadata": {},
   "outputs": [],
   "source": [
    "weather_data = [\n",
    "    ('Mumbai', 'India', 'Winter', 24.8, 5.9),\n",
    "    ('Mumbai', 'India', 'Spring', 28.4, 16.2),\n",
    "    ('Mumbai', 'India', 'Summer', 27.9, 1549.4),\n",
    "    ('Mumbai', 'India', 'Fall', 27.6, 346.0),\n",
    "    ('London', 'United Kingdom', 'Winter', 4.2, 207.7),\n",
    "    ('London', 'United Kingdom', 'Spring', 8.3, 169.6),\n",
    "    ('London', 'United Kingdom', 'Summer', 15.7, 157.0),\n",
    "    ('London', 'United Kingdom', 'Fall', 10.4, 218.5),\n",
    "    ('Cairo', 'Egypt', 'Winter', 13.6, 16.5),\n",
    "    ('Cairo', 'Egypt', 'Spring', 20.7, 6.5),\n",
    "    ('Cairo', 'Egypt', 'Summer', 27.7, 0.1),\n",
    "    ('Cairo', 'Egypt', 'Fall', 22.2, 4.5)\n",
    "]\n",
    "\n",
    "pointer.executemany('''\n",
    "    INSERT INTO WeatherData (City, Country, Season, Temperature, Rainfall)VALUES (?, ?, ?, ?, ?)''', weather_data)\n",
    "\n",
    "# Commit the changes\n",
    "connection.commit()"
   ]
  },
  {
   "cell_type": "code",
   "execution_count": 38,
   "id": "e44c9275",
   "metadata": {},
   "outputs": [],
   "source": [
    "def execute_query(query_sql):\n",
    "    pointer.execute(query_sql)\n",
    "    return pointer.fetchall()"
   ]
  },
  {
   "cell_type": "markdown",
   "id": "2fbb49cc",
   "metadata": {},
   "source": [
    "### a. All the temperature data."
   ]
  },
  {
   "cell_type": "code",
   "execution_count": 39,
   "id": "e154eaba",
   "metadata": {},
   "outputs": [
    {
     "name": "stdout",
     "output_type": "stream",
     "text": [
      "[(24.8,), (28.4,), (27.9,), (27.6,), (4.2,), (8.3,), (15.7,), (10.4,), (13.6,), (20.7,), (27.7,), (22.2,)]\n"
     ]
    }
   ],
   "source": [
    "results = execute_query('SELECT Temperature FROM WeatherData;')\n",
    "print(results)"
   ]
  },
  {
   "cell_type": "markdown",
   "id": "27f8f23f",
   "metadata": {},
   "source": [
    "### b. All the cities, but without repetition."
   ]
  },
  {
   "cell_type": "code",
   "execution_count": 40,
   "id": "0aa24dde",
   "metadata": {},
   "outputs": [
    {
     "name": "stdout",
     "output_type": "stream",
     "text": [
      "[('Mumbai',), ('London',), ('Cairo',)]\n"
     ]
    }
   ],
   "source": [
    "results = execute_query('SELECT DISTINCT City FROM WeatherData;')\n",
    "print(results)"
   ]
  },
  {
   "cell_type": "markdown",
   "id": "5758d00d",
   "metadata": {},
   "source": [
    "### c. All the records for India."
   ]
  },
  {
   "cell_type": "code",
   "execution_count": 41,
   "id": "4d7c6d09",
   "metadata": {},
   "outputs": [
    {
     "name": "stdout",
     "output_type": "stream",
     "text": [
      "[('Mumbai', 'India', 'Winter', 24.8, 5.9), ('Mumbai', 'India', 'Spring', 28.4, 16.2), ('Mumbai', 'India', 'Summer', 27.9, 1549.4), ('Mumbai', 'India', 'Fall', 27.6, 346.0)]\n"
     ]
    }
   ],
   "source": [
    "results = execute_query('SELECT * FROM WeatherData WHERE Country = \"India\";')\n",
    "print(results)"
   ]
  },
  {
   "cell_type": "markdown",
   "id": "5da2b62d",
   "metadata": {},
   "source": [
    "### d. All the Fall records"
   ]
  },
  {
   "cell_type": "code",
   "execution_count": 42,
   "id": "e3efc87d",
   "metadata": {},
   "outputs": [
    {
     "name": "stdout",
     "output_type": "stream",
     "text": [
      "[('Mumbai', 'India', 'Fall', 27.6, 346.0), ('London', 'United Kingdom', 'Fall', 10.4, 218.5), ('Cairo', 'Egypt', 'Fall', 22.2, 4.5)]\n"
     ]
    }
   ],
   "source": [
    "results = execute_query('SELECT * FROM WeatherData WHERE Season = \"Fall\";')\n",
    "print(results)"
   ]
  },
  {
   "cell_type": "markdown",
   "id": "425ea3aa",
   "metadata": {},
   "source": [
    "### e. The city, country, and season for which the average rainfall is between 200 and 400 millimeters."
   ]
  },
  {
   "cell_type": "code",
   "execution_count": 43,
   "id": "daf0f52c",
   "metadata": {},
   "outputs": [
    {
     "name": "stdout",
     "output_type": "stream",
     "text": [
      "[('London', 'United Kingdom', 'Fall'), ('London', 'United Kingdom', 'Winter'), ('Mumbai', 'India', 'Fall')]\n"
     ]
    }
   ],
   "source": [
    "results = execute_query('SELECT City, Country, Season FROM WeatherData GROUP BY City, Country, Season HAVING AVG(Rainfall) BETWEEN 200 AND 400;')\n",
    "print(results)"
   ]
  },
  {
   "cell_type": "markdown",
   "id": "df8b4214",
   "metadata": {},
   "source": [
    "### f. The city and country for which the average Fall temperature is above 20 degrees, in increasing temperature order."
   ]
  },
  {
   "cell_type": "code",
   "execution_count": 44,
   "id": "6bcfd40d",
   "metadata": {},
   "outputs": [
    {
     "name": "stdout",
     "output_type": "stream",
     "text": [
      "[('Cairo', 'Egypt'), ('Mumbai', 'India')]\n"
     ]
    }
   ],
   "source": [
    "results = execute_query('SELECT City, Country FROM WeatherData WHERE Season = \"Fall\" GROUP BY City, Country HAVING AVG(Temperature) > 20 ORDER BY AVG(Temperature) ASC;')\n",
    "print(results)"
   ]
  },
  {
   "cell_type": "markdown",
   "id": "fcd642d7",
   "metadata": {},
   "source": [
    "### g. The total annual rainfall for Cairo."
   ]
  },
  {
   "cell_type": "code",
   "execution_count": 45,
   "id": "175ae26a",
   "metadata": {},
   "outputs": [
    {
     "name": "stdout",
     "output_type": "stream",
     "text": [
      "[(27.6,)]\n"
     ]
    }
   ],
   "source": [
    "results = execute_query('SELECT SUM(Rainfall) AS TotalRainfall FROM WeatherData WHERE City = \"Cairo\";')\n",
    "print(results)"
   ]
  },
  {
   "cell_type": "markdown",
   "id": "3d7cd311",
   "metadata": {},
   "source": [
    "### h. The total rainfall for each season."
   ]
  },
  {
   "cell_type": "code",
   "execution_count": 46,
   "id": "6fa1ba26",
   "metadata": {},
   "outputs": [
    {
     "name": "stdout",
     "output_type": "stream",
     "text": [
      "[('Fall', 569.0), ('Spring', 192.29999999999998), ('Summer', 1706.5), ('Winter', 230.1)]\n"
     ]
    }
   ],
   "source": [
    "results = execute_query('SELECT Season, SUM(Rainfall) AS TotalRainfall FROM WeatherData GROUP BY Season;')\n",
    "print(results)"
   ]
  },
  {
   "cell_type": "markdown",
   "id": "4cbcc163",
   "metadata": {},
   "source": [
    "## Q9: Suppose list words is defined as follows:\n",
    "\n",
    "### words = ['The', 'quick', 'brown', 'fox', 'jumps', 'over', 'the', 'lazy', 'dog']\n",
    "\n",
    "### Write list comprehension expressions that use list words and generate the following lists:"
   ]
  },
  {
   "cell_type": "code",
   "execution_count": 50,
   "id": "25118596",
   "metadata": {},
   "outputs": [
    {
     "name": "stdout",
     "output_type": "stream",
     "text": [
      "a)  ['THE', 'QUICK', 'BROWN', 'FOX', 'JUMPS', 'OVER', 'THE', 'LAZY', 'DOG']\n",
      "b)  ['the', 'quick', 'brown', 'fox', 'jumps', 'over', 'the', 'lazy', 'dog']\n",
      "c)  [3, 5, 5, 3, 5, 4, 3, 4, 3]\n",
      "d)  [['THE', 'the', 3], ['QUICK', 'quick', 5], ['BROWN', 'brown', 5], ['FOX', 'fox', 3], ['JUMPS', 'jumps', 5], ['OVER', 'over', 4], ['THE', 'the', 3], ['LAZY', 'lazy', 4], ['DOG', 'dog', 3]]\n",
      "e)  ['The', 'quick', 'brown', 'fox', 'jumps', 'over', 'the', 'lazy', 'dog']\n",
      "e)  ['quick', 'brown', 'jumps', 'over', 'lazy']\n"
     ]
    }
   ],
   "source": [
    "words = ['The', 'quick', 'brown', 'fox', 'jumps', 'over', 'the', 'lazy', 'dog']\n",
    "\n",
    "words_in_upper_case = [w.upper() for w in words]\n",
    "\n",
    "words_in_lower_case = [w.lower() for w in words]\n",
    "\n",
    "lengths_of_words = [len(w) for w in words]\n",
    "\n",
    "info_abt_words = [[w.upper(), w.lower(), len(w)] for w in words]\n",
    "\n",
    "more_than_3_words = [w for w in words if len(w) >= 3]\n",
    "\n",
    "more_than_4_words = [w for w in words if len(w) >= 4]\n",
    "\n",
    "\n",
    "print(\"a) \", words_in_upper_case)\n",
    "print(\"b) \", words_in_lower_case)\n",
    "print(\"c) \", lengths_of_words)\n",
    "print(\"d) \", info_abt_words)\n",
    "print(\"e) \", more_than_3_words)\n",
    "print(\"e) \", more_than_4_words)"
   ]
  },
  {
   "cell_type": "code",
   "execution_count": null,
   "id": "c7c06dad",
   "metadata": {},
   "outputs": [],
   "source": []
  }
 ],
 "metadata": {
  "kernelspec": {
   "display_name": "Python 3 (ipykernel)",
   "language": "python",
   "name": "python3"
  },
  "language_info": {
   "codemirror_mode": {
    "name": "ipython",
    "version": 3
   },
   "file_extension": ".py",
   "mimetype": "text/x-python",
   "name": "python",
   "nbconvert_exporter": "python",
   "pygments_lexer": "ipython3",
   "version": "3.10.9"
  }
 },
 "nbformat": 4,
 "nbformat_minor": 5
}
